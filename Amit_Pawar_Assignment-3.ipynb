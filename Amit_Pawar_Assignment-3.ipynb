{
 "cells": [
  {
   "cell_type": "markdown",
   "metadata": {},
   "source": [
    "# Assignment 3  - Amit Pawar\n",
    "\n",
    "In this assignment, I have used Logistic Regression in its purest form first. To further enhance it, I have incorporated the same with PIPELINE API, with logistic regression, trainvalidationSplit and BinaryClassificationEvaluator for evaluating the model. I have used following HyperParameters - elasticNetParam, maxIter and regParam.\n",
    "\n",
    "As further enhancement, I have demonstrated how RandomForestClassifier can further improve AUC.\n",
    "\n",
    "## Customer Churn\n",
    "\n",
    "Also known as customer attrition, or customer turnover is the loss of clients or customers. Customer churn is a critical metric because it is much less expensive to retain existing customers than it is to acquire new ones. \n",
    "\n",
    "Companies usually make a distinction between voluntary churn and involuntary churn. In most analyses involuntary churn is excluded. \n",
    "\n",
    "Predictive analytics uses machine learning to predict the likelihood of a customer churning. These models will identify a small subgroup of potential customers that are at a higher risk of abandoning the company. This empowers the company to focus on the subset of the customers who are most likely to churn and through customer retention marketing programs stop some of that to happen.\n",
    "\n",
    "\n",
    "## Data\n",
    "\n",
    "**Telco Customer Churn**\n",
    "\n",
    "The data was downloaded from IBM Sample Data Sets: https://www.ibm.com/communities/analytics/watson-analytics-blog/guide-to-sample-datasets/\n",
    "\n",
    "Each row represents a customer, each column contains customer's attributes described as below:\n",
    "\n",
    "* **customerID**: Customer ID\n",
    "* **gender**: Customer gender (female, male)\n",
    "* **SeniorCitizen**: Whether the customer is a senior citizen or not (1, 0)\n",
    "* **Partner**: Whether the customer has a partner or not (Yes, No)\n",
    "* **Dependents**: Whether the customer has dependents or not (Yes, No)\n",
    "* **tenure**: Number of months the customer has stayed with the company\n",
    "* **PhoneService**: Whether the customer has a phone service or not (Yes, No)\n",
    "* **MultipleLines**: Whether the customer has multiple lines or not (Yes, No, No phone service)\n",
    "* **InternetService**: Customer's internet service provider (DSL, Fiber optic, No)\n",
    "* **OnlineSecurity**: Whether the customer has online security or not (Yes, No, No internet service)\n",
    "* **OnlineBackup**: Whether the customer has online backup or not (Yes, No, No internet service)\n",
    "* **DeviceProtection**: Whether the customer has device protection or not (Yes, No, No internet service)\n",
    "* **TechSupport**: Whether the customer has tech support or not (Yes, No, No internet service)\n",
    "* **StreamingTV**: Whether the customer has streaming TV or not (Yes, No, No internet service)\n",
    "* **StreamingMovies**: Whether the customer has streaming movies or not (Yes, No, No internet service)\n",
    "* **Contract**: The contract term of the customer (Month-to-month, One year, Two year)\n",
    "* **PaperlessBilling**: Whether the customer has paperless billing or not (Yes, No)\n",
    "* **PaymentMethod**: The customer's payment method (Electronic check, Mailed check, Bank transfer (automatic), Credit card (automatic))\n",
    "* **MonthlyCharges**: The amount charged to the customer monthly\n",
    "* **TotalCharges**: The total amount charged to the customer\n",
    "* **Churn**: Whether the customer churned or not (Yes or No)\n",
    "\n",
    "The data set includes information about:\n",
    "\n",
    "* Customers who left - the column is called `Churn`\n",
    "* Services that each customer has signed up for - phone, multiple lines, internet, online security, online backup, device protection, tech support, and streaming TV and movies\n",
    "* Customer account information - how long they've been a customer, contract, payment method, paperless billing, monthly charges, and total charges\n",
    "* Demographic info about customers - gender, age range, and if they have partners and dependents"
   ]
  },
  {
   "cell_type": "markdown",
   "metadata": {},
   "source": [
    "#### Importing libraries:"
   ]
  },
  {
   "cell_type": "code",
   "execution_count": 1,
   "metadata": {},
   "outputs": [
    {
     "name": "stdout",
     "output_type": "stream",
     "text": [
      "gs://is-843-avp-01/notebooks/jupyter/data/\n"
     ]
    }
   ],
   "source": [
    "%matplotlib inline\n",
    "import matplotlib.pyplot as plt\n",
    "import pandas as pd\n",
    "import numpy as np\n",
    "from pyspark.sql.functions import *\n",
    "\n",
    "# the following line gets the bucket name attached to our cluster\n",
    "bucket = spark._jsc.hadoopConfiguration().get(\"fs.gs.system.bucket\")\n",
    "\n",
    "# specifying the path to our bucket where the data is located (no need to edit this path anymore)\n",
    "data = \"gs://\" + bucket + \"/notebooks/jupyter/data/\"\n",
    "print(data)"
   ]
  },
  {
   "cell_type": "markdown",
   "metadata": {},
   "source": [
    "#### Importing data:"
   ]
  },
  {
   "cell_type": "code",
   "execution_count": 2,
   "metadata": {},
   "outputs": [
    {
     "name": "stderr",
     "output_type": "stream",
     "text": [
      "                                                                                \r"
     ]
    },
    {
     "name": "stdout",
     "output_type": "stream",
     "text": [
      "+------+-------------+-------+----------+------+------------+--------------+---------------+--------------+------------+----------------+-----------+-----------+---------------+--------------+----------------+--------------------+--------------+------------+-----+\n",
      "|gender|SeniorCitizen|Partner|Dependents|tenure|PhoneService| MultipleLines|InternetService|OnlineSecurity|OnlineBackup|DeviceProtection|TechSupport|StreamingTV|StreamingMovies|      Contract|PaperlessBilling|       PaymentMethod|MonthlyCharges|TotalCharges|Churn|\n",
      "+------+-------------+-------+----------+------+------------+--------------+---------------+--------------+------------+----------------+-----------+-----------+---------------+--------------+----------------+--------------------+--------------+------------+-----+\n",
      "|Female|            0|    Yes|        No|     1|          No|NoPhoneService|            DSL|            No|         Yes|              No|         No|         No|             No|Month_to_month|             Yes|     ElectronicCheck|         29.85|       29.85|   No|\n",
      "|  Male|            0|     No|        No|    34|         Yes|            No|            DSL|           Yes|          No|             Yes|         No|         No|             No|       OneYear|              No|         MailedCheck|         56.95|      1889.5|   No|\n",
      "|  Male|            0|     No|        No|     2|         Yes|            No|            DSL|           Yes|         Yes|              No|         No|         No|             No|Month_to_month|             Yes|         MailedCheck|         53.85|      108.15|  Yes|\n",
      "|  Male|            0|     No|        No|    45|          No|NoPhoneService|            DSL|           Yes|          No|             Yes|        Yes|         No|             No|       OneYear|              No|BankTransferAutom...|          42.3|     1840.75|   No|\n",
      "|Female|            0|     No|        No|     2|         Yes|            No|     FiberOptic|            No|          No|              No|         No|         No|             No|Month_to_month|             Yes|     ElectronicCheck|          70.7|      151.65|  Yes|\n",
      "+------+-------------+-------+----------+------+------------+--------------+---------------+--------------+------------+----------------+-----------+-----------+---------------+--------------+----------------+--------------------+--------------+------------+-----+\n",
      "only showing top 5 rows\n",
      "\n",
      "root\n",
      " |-- gender: string (nullable = true)\n",
      " |-- SeniorCitizen: integer (nullable = true)\n",
      " |-- Partner: string (nullable = true)\n",
      " |-- Dependents: string (nullable = true)\n",
      " |-- tenure: integer (nullable = true)\n",
      " |-- PhoneService: string (nullable = true)\n",
      " |-- MultipleLines: string (nullable = true)\n",
      " |-- InternetService: string (nullable = true)\n",
      " |-- OnlineSecurity: string (nullable = true)\n",
      " |-- OnlineBackup: string (nullable = true)\n",
      " |-- DeviceProtection: string (nullable = true)\n",
      " |-- TechSupport: string (nullable = true)\n",
      " |-- StreamingTV: string (nullable = true)\n",
      " |-- StreamingMovies: string (nullable = true)\n",
      " |-- Contract: string (nullable = true)\n",
      " |-- PaperlessBilling: string (nullable = true)\n",
      " |-- PaymentMethod: string (nullable = true)\n",
      " |-- MonthlyCharges: double (nullable = true)\n",
      " |-- TotalCharges: double (nullable = true)\n",
      " |-- Churn: string (nullable = true)\n",
      "\n",
      "This datasets consists of 7043 rows.\n"
     ]
    }
   ],
   "source": [
    "df = spark.read.format(\"csv\")\\\n",
    "  .option(\"header\", \"true\")\\\n",
    "  .option(\"inferschema\", True)\\\n",
    "  .load(data + \"Telco-Customer-Churn.csv2\")\\\n",
    "  .coalesce(5)\n",
    "\n",
    "df = df.drop('customerID')  # Dropping customerID\n",
    "df.cache()\n",
    "df.show(5)\n",
    "df.printSchema()\n",
    "print(\"This datasets consists of {} rows.\".format(df.count()))"
   ]
  },
  {
   "cell_type": "markdown",
   "metadata": {},
   "source": [
    "#### Checking for missing values:"
   ]
  },
  {
   "cell_type": "code",
   "execution_count": 3,
   "metadata": {},
   "outputs": [
    {
     "data": {
      "text/plain": [
       "[('gender', 0),\n",
       " ('SeniorCitizen', 0),\n",
       " ('Partner', 0),\n",
       " ('Dependents', 0),\n",
       " ('tenure', 0),\n",
       " ('PhoneService', 0),\n",
       " ('MultipleLines', 0),\n",
       " ('InternetService', 0),\n",
       " ('OnlineSecurity', 0),\n",
       " ('OnlineBackup', 0),\n",
       " ('DeviceProtection', 0),\n",
       " ('TechSupport', 0),\n",
       " ('StreamingTV', 0),\n",
       " ('StreamingMovies', 0),\n",
       " ('Contract', 0),\n",
       " ('PaperlessBilling', 0),\n",
       " ('PaymentMethod', 0),\n",
       " ('MonthlyCharges', 0),\n",
       " ('TotalCharges', 11),\n",
       " ('Churn', 0)]"
      ]
     },
     "execution_count": 3,
     "metadata": {},
     "output_type": "execute_result"
    }
   ],
   "source": [
    "[(c, df.where(col(c).isNull()).count()) for c in df.columns]"
   ]
  },
  {
   "cell_type": "markdown",
   "metadata": {},
   "source": [
    "There are 11 missing values in `TotalCharges`. Let's fill them with 0 since they seem to be new customers:"
   ]
  },
  {
   "cell_type": "code",
   "execution_count": 4,
   "metadata": {},
   "outputs": [],
   "source": [
    "df = df.fillna(0)"
   ]
  },
  {
   "cell_type": "markdown",
   "metadata": {},
   "source": [
    "#### Define an RFormula that uses all of the columns as features and call it `supervised`:"
   ]
  },
  {
   "cell_type": "code",
   "execution_count": 5,
   "metadata": {},
   "outputs": [],
   "source": [
    "# Your answer goes here\n",
    "from pyspark.ml.feature import RFormula\n",
    "\n",
    "supervised = RFormula(formula=\"Churn ~ . \")"
   ]
  },
  {
   "cell_type": "markdown",
   "metadata": {},
   "source": [
    "#### Fit the RFormula transformer and call it `fittedRF`:"
   ]
  },
  {
   "cell_type": "code",
   "execution_count": 6,
   "metadata": {},
   "outputs": [
    {
     "name": "stderr",
     "output_type": "stream",
     "text": [
      "                                                                                \r"
     ]
    }
   ],
   "source": [
    "# Your answer goes here\n",
    "fittedRF = supervised.fit(df)  # fit the transformer"
   ]
  },
  {
   "cell_type": "markdown",
   "metadata": {},
   "source": [
    "#### Using `fittedRF` transform our `df` DataFrame. Call this `preparedDF`:"
   ]
  },
  {
   "cell_type": "code",
   "execution_count": 7,
   "metadata": {},
   "outputs": [],
   "source": [
    "preparedDF = fittedRF.transform(df)"
   ]
  },
  {
   "cell_type": "markdown",
   "metadata": {},
   "source": [
    "Print the first couple of rows of 'preparedDF' with the truncate option as 'off':"
   ]
  },
  {
   "cell_type": "code",
   "execution_count": 8,
   "metadata": {},
   "outputs": [
    {
     "name": "stderr",
     "output_type": "stream",
     "text": [
      "23/04/24 11:34:07 WARN package: Truncated the string representation of a plan since it was too large. This behavior can be adjusted by setting 'spark.sql.debug.maxToStringFields'.\n",
      "                                                                                \r"
     ]
    },
    {
     "name": "stdout",
     "output_type": "stream",
     "text": [
      "+------+-------------+-------+----------+------+------------+--------------+---------------+--------------+------------+----------------+-----------+-----------+---------------+--------------+----------------+---------------------+--------------+------------+-----+------------------------------------------------------------------------------------------------------------------------------------+-----+\n",
      "|gender|SeniorCitizen|Partner|Dependents|tenure|PhoneService|MultipleLines |InternetService|OnlineSecurity|OnlineBackup|DeviceProtection|TechSupport|StreamingTV|StreamingMovies|Contract      |PaperlessBilling|PaymentMethod        |MonthlyCharges|TotalCharges|Churn|features                                                                                                                            |label|\n",
      "+------+-------------+-------+----------+------+------------+--------------+---------------+--------------+------------+----------------+-----------+-----------+---------------+--------------+----------------+---------------------+--------------+------------+-----+------------------------------------------------------------------------------------------------------------------------------------+-----+\n",
      "|Female|0            |Yes    |No        |1     |No          |NoPhoneService|DSL            |No            |Yes         |No              |No         |No         |No             |Month_to_month|Yes             |ElectronicCheck      |29.85         |29.85       |No   |(30,[3,4,9,10,13,14,16,18,20,22,24,25,28,29],[1.0,1.0,1.0,1.0,1.0,1.0,1.0,1.0,1.0,1.0,1.0,1.0,29.85,29.85])                         |0.0  |\n",
      "|Male  |0            |No     |No        |34    |Yes         |No            |DSL            |Yes           |No          |Yes             |No         |No         |No             |OneYear       |No              |MailedCheck          |56.95         |1889.5      |No   |(30,[0,2,3,4,5,6,9,11,12,15,16,18,20,26,28,29],[1.0,1.0,1.0,34.0,1.0,1.0,1.0,1.0,1.0,1.0,1.0,1.0,1.0,1.0,56.95,1889.5])             |0.0  |\n",
      "|Male  |0            |No     |No        |2     |Yes         |No            |DSL            |Yes           |Yes         |No              |No         |No         |No             |Month_to_month|Yes             |MailedCheck          |53.85         |108.15      |Yes  |(30,[0,2,3,4,5,6,9,11,13,14,16,18,20,22,24,26,28,29],[1.0,1.0,1.0,2.0,1.0,1.0,1.0,1.0,1.0,1.0,1.0,1.0,1.0,1.0,1.0,1.0,53.85,108.15])|1.0  |\n",
      "|Male  |0            |No     |No        |45    |No          |NoPhoneService|DSL            |Yes           |No          |Yes             |Yes        |No         |No             |OneYear       |No              |BankTransferAutomatic|42.3          |1840.75     |No   |(30,[0,2,3,4,9,11,12,15,17,18,20,27,28,29],[1.0,1.0,1.0,45.0,1.0,1.0,1.0,1.0,1.0,1.0,1.0,1.0,42.3,1840.75])                         |0.0  |\n",
      "|Female|0            |No     |No        |2     |Yes         |No            |FiberOptic     |No            |No          |No              |No         |No         |No             |Month_to_month|Yes             |ElectronicCheck      |70.7          |151.65      |Yes  |(30,[2,3,4,5,6,8,10,12,14,16,18,20,22,24,25,28,29],[1.0,1.0,2.0,1.0,1.0,1.0,1.0,1.0,1.0,1.0,1.0,1.0,1.0,1.0,1.0,70.7,151.65])       |1.0  |\n",
      "+------+-------------+-------+----------+------+------------+--------------+---------------+--------------+------------+----------------+-----------+-----------+---------------+--------------+----------------+---------------------+--------------+------------+-----+------------------------------------------------------------------------------------------------------------------------------------+-----+\n",
      "only showing top 5 rows\n",
      "\n"
     ]
    }
   ],
   "source": [
    "preparedDF.show(5, truncate=False)"
   ]
  },
  {
   "cell_type": "code",
   "execution_count": 9,
   "metadata": {},
   "outputs": [
    {
     "name": "stdout",
     "output_type": "stream",
     "text": [
      "+-----------------------------------------------------------------------------------------------------------------------+-----+\n",
      "|features                                                                                                               |label|\n",
      "+-----------------------------------------------------------------------------------------------------------------------+-----+\n",
      "|(30,[3,4,9,10,13,14,16,18,20,22,24,25,28,29],[1.0,1.0,1.0,1.0,1.0,1.0,1.0,1.0,1.0,1.0,1.0,1.0,29.85,29.85])            |0.0  |\n",
      "|(30,[0,2,3,4,5,6,9,11,12,15,16,18,20,26,28,29],[1.0,1.0,1.0,34.0,1.0,1.0,1.0,1.0,1.0,1.0,1.0,1.0,1.0,1.0,56.95,1889.5])|0.0  |\n",
      "+-----------------------------------------------------------------------------------------------------------------------+-----+\n",
      "only showing top 2 rows\n",
      "\n"
     ]
    }
   ],
   "source": [
    "preparedDF.select('features', 'label').show(2, False)"
   ]
  },
  {
   "cell_type": "markdown",
   "metadata": {},
   "source": [
    "#### Below we will retrieve the name of the columns used to make our feature vector and store them in a pandas DataFrame:"
   ]
  },
  {
   "cell_type": "code",
   "execution_count": 38,
   "metadata": {},
   "outputs": [
    {
     "data": {
      "text/html": [
       "<div>\n",
       "<style scoped>\n",
       "    .dataframe tbody tr th:only-of-type {\n",
       "        vertical-align: middle;\n",
       "    }\n",
       "\n",
       "    .dataframe tbody tr th {\n",
       "        vertical-align: top;\n",
       "    }\n",
       "\n",
       "    .dataframe thead th {\n",
       "        text-align: right;\n",
       "    }\n",
       "</style>\n",
       "<table border=\"1\" class=\"dataframe\">\n",
       "  <thead>\n",
       "    <tr style=\"text-align: right;\">\n",
       "      <th></th>\n",
       "      <th>name</th>\n",
       "    </tr>\n",
       "    <tr>\n",
       "      <th>idx</th>\n",
       "      <th></th>\n",
       "    </tr>\n",
       "  </thead>\n",
       "  <tbody>\n",
       "    <tr>\n",
       "      <th>0</th>\n",
       "      <td>gender_Male</td>\n",
       "    </tr>\n",
       "    <tr>\n",
       "      <th>1</th>\n",
       "      <td>SeniorCitizen</td>\n",
       "    </tr>\n",
       "    <tr>\n",
       "      <th>2</th>\n",
       "      <td>Partner_No</td>\n",
       "    </tr>\n",
       "    <tr>\n",
       "      <th>3</th>\n",
       "      <td>Dependents_No</td>\n",
       "    </tr>\n",
       "    <tr>\n",
       "      <th>4</th>\n",
       "      <td>tenure</td>\n",
       "    </tr>\n",
       "  </tbody>\n",
       "</table>\n",
       "</div>"
      ],
      "text/plain": [
       "              name\n",
       "idx               \n",
       "0      gender_Male\n",
       "1    SeniorCitizen\n",
       "2       Partner_No\n",
       "3    Dependents_No\n",
       "4           tenure"
      ]
     },
     "execution_count": 38,
     "metadata": {},
     "output_type": "execute_result"
    }
   ],
   "source": [
    "# Your answer goes here\n",
    "featureCols = pd.DataFrame(preparedDF.schema[\"features\"].metadata[\"ml_attr\"][\"attrs\"][\"binary\"]+\n",
    "  preparedDF.schema[\"features\"].metadata[\"ml_attr\"][\"attrs\"][\"numeric\"]).sort_values(\"idx\")\n",
    "\n",
    "featureCols = featureCols.set_index('idx')\n",
    "featureCols.head()"
   ]
  },
  {
   "cell_type": "markdown",
   "metadata": {},
   "source": [
    "#### Split the transformed data into `train` and `test`. Use a 30% split and a `seed`."
   ]
  },
  {
   "cell_type": "code",
   "execution_count": 10,
   "metadata": {},
   "outputs": [
    {
     "name": "stderr",
     "output_type": "stream",
     "text": [
      "[Stage 116:>                                                        (0 + 1) / 1]\r"
     ]
    },
    {
     "name": "stdout",
     "output_type": "stream",
     "text": [
      "+------+-------------+-------+----------+------+------------+--------------+---------------+--------------+------------+----------------+-----------+-----------+---------------+--------------+----------------+---------------+--------------+------------+-----+--------------------+-----+\n",
      "|gender|SeniorCitizen|Partner|Dependents|tenure|PhoneService| MultipleLines|InternetService|OnlineSecurity|OnlineBackup|DeviceProtection|TechSupport|StreamingTV|StreamingMovies|      Contract|PaperlessBilling|  PaymentMethod|MonthlyCharges|TotalCharges|Churn|            features|label|\n",
      "+------+-------------+-------+----------+------+------------+--------------+---------------+--------------+------------+----------------+-----------+-----------+---------------+--------------+----------------+---------------+--------------+------------+-----+--------------------+-----+\n",
      "|Female|            0|     No|        No|     1|          No|NoPhoneService|            DSL|            No|          No|              No|         No|         No|             No|Month_to_month|              No|ElectronicCheck|          24.6|        24.6|  Yes|(30,[2,3,4,9,10,1...|  1.0|\n",
      "+------+-------------+-------+----------+------+------------+--------------+---------------+--------------+------------+----------------+-----------+-----------+---------------+--------------+----------------+---------------+--------------+------------+-----+--------------------+-----+\n",
      "only showing top 1 row\n",
      "\n"
     ]
    },
    {
     "name": "stderr",
     "output_type": "stream",
     "text": [
      "                                                                                \r"
     ]
    }
   ],
   "source": [
    "# Your answer goes here\n",
    "train, test = preparedDF.randomSplit([0.7, 0.3], seed = 843)\n",
    "test.show(1)"
   ]
  },
  {
   "cell_type": "markdown",
   "metadata": {},
   "source": [
    "#### Instantiate an instance of `LogisticRegression`. Call it `lr`:"
   ]
  },
  {
   "cell_type": "code",
   "execution_count": 19,
   "metadata": {},
   "outputs": [],
   "source": [
    "# Your answer goes here\n",
    "from pyspark.ml.classification import LogisticRegression\n",
    "\n",
    "lr = LogisticRegression()"
   ]
  },
  {
   "cell_type": "markdown",
   "metadata": {},
   "source": [
    "#### Print the parameters of `lr` to check the default values used. You can always come back to the cell above and change the default values:"
   ]
  },
  {
   "cell_type": "code",
   "execution_count": 20,
   "metadata": {},
   "outputs": [
    {
     "name": "stdout",
     "output_type": "stream",
     "text": [
      "aggregationDepth: suggested depth for treeAggregate (>= 2). (default: 2)\n",
      "elasticNetParam: the ElasticNet mixing parameter, in range [0, 1]. For alpha = 0, the penalty is an L2 penalty. For alpha = 1, it is an L1 penalty. (default: 0.0)\n",
      "family: The name of family which is a description of the label distribution to be used in the model. Supported options: auto, binomial, multinomial (default: auto)\n",
      "featuresCol: features column name. (default: features)\n",
      "fitIntercept: whether to fit an intercept term. (default: True)\n",
      "labelCol: label column name. (default: label)\n",
      "lowerBoundsOnCoefficients: The lower bounds on coefficients if fitting under bound constrained optimization. The bound matrix must be compatible with the shape (1, number of features) for binomial regression, or (number of classes, number of features) for multinomial regression. (undefined)\n",
      "lowerBoundsOnIntercepts: The lower bounds on intercepts if fitting under bound constrained optimization. The bounds vector size must beequal with 1 for binomial regression, or the number oflasses for multinomial regression. (undefined)\n",
      "maxBlockSizeInMB: maximum memory in MB for stacking input data into blocks. Data is stacked within partitions. If more than remaining data size in a partition then it is adjusted to the data size. Default 0.0 represents choosing optimal value, depends on specific algorithm. Must be >= 0. (default: 0.0)\n",
      "maxIter: max number of iterations (>= 0). (default: 100)\n",
      "predictionCol: prediction column name. (default: prediction)\n",
      "probabilityCol: Column name for predicted class conditional probabilities. Note: Not all models output well-calibrated probability estimates! These probabilities should be treated as confidences, not precise probabilities. (default: probability)\n",
      "rawPredictionCol: raw prediction (a.k.a. confidence) column name. (default: rawPrediction)\n",
      "regParam: regularization parameter (>= 0). (default: 0.0)\n",
      "standardization: whether to standardize the training features before fitting the model. (default: True)\n",
      "threshold: Threshold in binary classification prediction, in range [0, 1]. If threshold and thresholds are both set, they must match.e.g. if threshold is p, then thresholds must be equal to [1-p, p]. (default: 0.5)\n",
      "thresholds: Thresholds in multi-class classification to adjust the probability of predicting each class. Array must have length equal to the number of classes, with values > 0, excepting that at most one value may be 0. The class with largest value p/t is predicted, where p is the original probability of that class and t is the class's threshold. (undefined)\n",
      "tol: the convergence tolerance for iterative algorithms (>= 0). (default: 1e-06)\n",
      "upperBoundsOnCoefficients: The upper bounds on coefficients if fitting under bound constrained optimization. The bound matrix must be compatible with the shape (1, number of features) for binomial regression, or (number of classes, number of features) for multinomial regression. (undefined)\n",
      "upperBoundsOnIntercepts: The upper bounds on intercepts if fitting under bound constrained optimization. The bound vector size must be equal with 1 for binomial regression, or the number of classes for multinomial regression. (undefined)\n",
      "weightCol: weight column name. If this is not set or empty, we treat all instance weights as 1.0. (undefined)\n"
     ]
    }
   ],
   "source": [
    "# Your answer goes here\n",
    "print(lr.explainParams())"
   ]
  },
  {
   "cell_type": "markdown",
   "metadata": {},
   "source": [
    "#### Fit the model on `train` and call it `lrModel`:"
   ]
  },
  {
   "cell_type": "code",
   "execution_count": 21,
   "metadata": {},
   "outputs": [
    {
     "name": "stderr",
     "output_type": "stream",
     "text": [
      "                                                                                \r"
     ]
    }
   ],
   "source": [
    "# Your answer goes here\n",
    "lrModel = lr.fit(train)"
   ]
  },
  {
   "cell_type": "markdown",
   "metadata": {},
   "source": [
    "#### Below we plot the coefficients of our model in a sorted fashion:"
   ]
  },
  {
   "cell_type": "code",
   "execution_count": 22,
   "metadata": {},
   "outputs": [],
   "source": [
    "# Your answer goes here\n",
    "plt.rcParams[\"figure.figsize\"] = (8,6)"
   ]
  },
  {
   "cell_type": "code",
   "execution_count": 23,
   "metadata": {},
   "outputs": [
    {
     "data": {
      "text/plain": [
       "Text(0, 0.5, 'Beta Coefficients')"
      ]
     },
     "execution_count": 23,
     "metadata": {},
     "output_type": "execute_result"
    },
    {
     "data": {
      "image/png": "[encoded data removed]",
      "text/plain": [
       "<Figure size 800x600 with 1 Axes>"
      ]
     },
     "metadata": {},
     "output_type": "display_data"
    }
   ],
   "source": [
    "# Your answer goes here\n",
    "beta = np.sort(lrModel.coefficients)\n",
    "plt.plot(beta)\n",
    "plt.ylabel('Beta Coefficients')"
   ]
  },
  {
   "cell_type": "markdown",
   "metadata": {},
   "source": [
    "#### Feature importance\n",
    "\n",
    "We already retrieved the name of the features. Let's join it with the coefficients to identify the ones with bigger absolute value:"
   ]
  },
  {
   "cell_type": "code",
   "execution_count": 24,
   "metadata": {},
   "outputs": [
    {
     "data": {
      "text/html": [
       "<div>\n",
       "<style scoped>\n",
       "    .dataframe tbody tr th:only-of-type {\n",
       "        vertical-align: middle;\n",
       "    }\n",
       "\n",
       "    .dataframe tbody tr th {\n",
       "        vertical-align: top;\n",
       "    }\n",
       "\n",
       "    .dataframe thead th {\n",
       "        text-align: right;\n",
       "    }\n",
       "</style>\n",
       "<table border=\"1\" class=\"dataframe\">\n",
       "  <thead>\n",
       "    <tr style=\"text-align: right;\">\n",
       "      <th></th>\n",
       "      <th>coefs</th>\n",
       "      <th>name</th>\n",
       "    </tr>\n",
       "  </thead>\n",
       "  <tbody>\n",
       "    <tr>\n",
       "      <th>23</th>\n",
       "      <td>-0.796201</td>\n",
       "      <td>Contract_TwoYear</td>\n",
       "    </tr>\n",
       "    <tr>\n",
       "      <th>9</th>\n",
       "      <td>-0.422971</td>\n",
       "      <td>InternetService_DSL</td>\n",
       "    </tr>\n",
       "    <tr>\n",
       "      <th>6</th>\n",
       "      <td>-0.219693</td>\n",
       "      <td>MultipleLines_No</td>\n",
       "    </tr>\n",
       "    <tr>\n",
       "      <th>0</th>\n",
       "      <td>-0.087097</td>\n",
       "      <td>gender_Male</td>\n",
       "    </tr>\n",
       "    <tr>\n",
       "      <th>4</th>\n",
       "      <td>-0.061813</td>\n",
       "      <td>tenure</td>\n",
       "    </tr>\n",
       "  </tbody>\n",
       "</table>\n",
       "</div>"
      ],
      "text/plain": [
       "       coefs                 name\n",
       "23 -0.796201     Contract_TwoYear\n",
       "9  -0.422971  InternetService_DSL\n",
       "6  -0.219693     MultipleLines_No\n",
       "0  -0.087097          gender_Male\n",
       "4  -0.061813               tenure"
      ]
     },
     "execution_count": 24,
     "metadata": {},
     "output_type": "execute_result"
    }
   ],
   "source": [
    "# Your answer goes here\n",
    "coefsArray = np.array(lrModel.coefficients)  # convert to np.array\n",
    "coefsDF = pd.DataFrame(coefsArray, columns=['coefs'])  # to pandas\n",
    "\n",
    "coefsDF = coefsDF.merge(featureCols, left_index=True, right_index=True)  # join it with featureCols we created above\n",
    "coefsDF.sort_values('coefs', inplace=True)  # Sort them\n",
    "coefsDF.head()"
   ]
  },
  {
   "cell_type": "markdown",
   "metadata": {},
   "source": [
    "#### Plot a bar chart:"
   ]
  },
  {
   "cell_type": "code",
   "execution_count": 25,
   "metadata": {},
   "outputs": [],
   "source": [
    "# Your answer goes here\n",
    "plt.rcParams[\"figure.figsize\"] = (20,3)"
   ]
  },
  {
   "cell_type": "code",
   "execution_count": 26,
   "metadata": {},
   "outputs": [
    {
     "data": {
      "image/png": "[encoded data removed]",
      "text/plain": [
       "<Figure size 2000x300 with 1 Axes>"
      ]
     },
     "metadata": {},
     "output_type": "display_data"
    }
   ],
   "source": [
    "# Your answer goes here\n",
    "plt.xticks(rotation=90)\n",
    "plt.bar(coefsDF.name, coefsDF.coefs)\n",
    "plt.title('Ranked coefficients from the logistic regression model')\n",
    "plt.show()"
   ]
  },
  {
   "cell_type": "markdown",
   "metadata": {},
   "source": [
    "From our fitted model, `lrModel`, extract the summary and call it `summary`:"
   ]
  },
  {
   "cell_type": "code",
   "execution_count": 27,
   "metadata": {},
   "outputs": [],
   "source": [
    "# Your answer goes here\n",
    "summary = lrModel.summary"
   ]
  },
  {
   "cell_type": "markdown",
   "metadata": {},
   "source": [
    "From `summary` extract `areaUnderROC`. Note that this AUC is from the `train` dataset and we should pay more attention to the AUC coming from the `test` set:"
   ]
  },
  {
   "cell_type": "code",
   "execution_count": 28,
   "metadata": {},
   "outputs": [
    {
     "name": "stderr",
     "output_type": "stream",
     "text": [
      "                                                                                \r"
     ]
    },
    {
     "name": "stdout",
     "output_type": "stream",
     "text": [
      "Train AUC: 0.8476784520669891\n"
     ]
    }
   ],
   "source": [
    "# Your answer goes here\n",
    "# Your answer goes here\n",
    "print(\"Train AUC:\", summary.areaUnderROC)"
   ]
  },
  {
   "cell_type": "markdown",
   "metadata": {},
   "source": [
    "#### From `summary` extract `roc` and convert it to a pandas DataFrame. Call it `roc`:"
   ]
  },
  {
   "cell_type": "code",
   "execution_count": 29,
   "metadata": {},
   "outputs": [
    {
     "data": {
      "text/html": [
       "<div>\n",
       "<style scoped>\n",
       "    .dataframe tbody tr th:only-of-type {\n",
       "        vertical-align: middle;\n",
       "    }\n",
       "\n",
       "    .dataframe tbody tr th {\n",
       "        vertical-align: top;\n",
       "    }\n",
       "\n",
       "    .dataframe thead th {\n",
       "        text-align: right;\n",
       "    }\n",
       "</style>\n",
       "<table border=\"1\" class=\"dataframe\">\n",
       "  <thead>\n",
       "    <tr style=\"text-align: right;\">\n",
       "      <th></th>\n",
       "      <th>FPR</th>\n",
       "      <th>TPR</th>\n",
       "    </tr>\n",
       "  </thead>\n",
       "  <tbody>\n",
       "    <tr>\n",
       "      <th>0</th>\n",
       "      <td>0.000000</td>\n",
       "      <td>0.000000</td>\n",
       "    </tr>\n",
       "    <tr>\n",
       "      <th>1</th>\n",
       "      <td>0.000000</td>\n",
       "      <td>0.003046</td>\n",
       "    </tr>\n",
       "    <tr>\n",
       "      <th>2</th>\n",
       "      <td>0.000000</td>\n",
       "      <td>0.006093</td>\n",
       "    </tr>\n",
       "    <tr>\n",
       "      <th>3</th>\n",
       "      <td>0.000556</td>\n",
       "      <td>0.007616</td>\n",
       "    </tr>\n",
       "    <tr>\n",
       "      <th>4</th>\n",
       "      <td>0.000556</td>\n",
       "      <td>0.010663</td>\n",
       "    </tr>\n",
       "  </tbody>\n",
       "</table>\n",
       "</div>"
      ],
      "text/plain": [
       "        FPR       TPR\n",
       "0  0.000000  0.000000\n",
       "1  0.000000  0.003046\n",
       "2  0.000000  0.006093\n",
       "3  0.000556  0.007616\n",
       "4  0.000556  0.010663"
      ]
     },
     "execution_count": 29,
     "metadata": {},
     "output_type": "execute_result"
    }
   ],
   "source": [
    "# Your answer goes here\n",
    "roc = summary.roc.toPandas()\n",
    "roc.head()"
   ]
  },
  {
   "cell_type": "markdown",
   "metadata": {},
   "source": [
    "#### Visualize the `roc` DataFrame:"
   ]
  },
  {
   "cell_type": "code",
   "execution_count": 30,
   "metadata": {},
   "outputs": [],
   "source": [
    "# Your answer goes here\n",
    "plt.rcParams[\"figure.figsize\"] = (8,6)"
   ]
  },
  {
   "cell_type": "code",
   "execution_count": 31,
   "metadata": {},
   "outputs": [
    {
     "name": "stdout",
     "output_type": "stream",
     "text": [
      "Train AUC: 0.8476784520669891\n"
     ]
    },
    {
     "data": {
      "image/png": "[encoded data removed]",
      "text/plain": [
       "<Figure size 800x600 with 1 Axes>"
      ]
     },
     "metadata": {},
     "output_type": "display_data"
    }
   ],
   "source": [
    "# Your answer goes here\n",
    "roc.plot(x='FPR', y='TPR', style='-', legend=False)\n",
    "plt.title('ROC Cruve')\n",
    "plt.ylabel('TPR')\n",
    "\n",
    "print('Train AUC:', summary.areaUnderROC)"
   ]
  },
  {
   "cell_type": "markdown",
   "metadata": {},
   "source": [
    "Do the same with `pr` from `summary`:"
   ]
  },
  {
   "cell_type": "code",
   "execution_count": 32,
   "metadata": {},
   "outputs": [
    {
     "data": {
      "text/plain": [
       "Text(0, 0.5, 'precision')"
      ]
     },
     "execution_count": 32,
     "metadata": {},
     "output_type": "execute_result"
    },
    {
     "data": {
      "image/png": "[encoded data removed]",
      "text/plain": [
       "<Figure size 800x600 with 1 Axes>"
      ]
     },
     "metadata": {},
     "output_type": "display_data"
    }
   ],
   "source": [
    "# Your answer goes here\n",
    "pr = summary.pr.toPandas()\n",
    "pr.plot(x='recall', y='precision', style='-', legend=False)\n",
    "plt.title('Precision-Recall Cruve')\n",
    "plt.ylabel('precision')"
   ]
  },
  {
   "cell_type": "markdown",
   "metadata": {},
   "source": [
    "Our baseline model looks promising. Let's do some predictions on the `test` set.\n",
    "\n",
    "Pass the `test` set through our trained model. Called the resulting DataFrame `fittedTest`:"
   ]
  },
  {
   "cell_type": "code",
   "execution_count": 33,
   "metadata": {},
   "outputs": [],
   "source": [
    "# Your answer goes here\n",
    "fittedTest = lrModel.transform(test)"
   ]
  },
  {
   "cell_type": "markdown",
   "metadata": {},
   "source": [
    "#### Print the first few rows of this DataFrame. Only show the following columns: \"label\", \"prediction\", \"rawPrediction\""
   ]
  },
  {
   "cell_type": "code",
   "execution_count": 34,
   "metadata": {},
   "outputs": [
    {
     "name": "stdout",
     "output_type": "stream",
     "text": [
      "+-----+----------+------------------------------------------+\n",
      "|label|prediction|rawPrediction                             |\n",
      "+-----+----------+------------------------------------------+\n",
      "|1.0  |1.0       |[-0.44107484269531416,0.44107484269531416]|\n",
      "|0.0  |1.0       |[-0.4246668575808312,0.4246668575808312]  |\n",
      "|1.0  |1.0       |[-0.26692243640267055,0.26692243640267055]|\n",
      "|0.0  |0.0       |[0.2404528963121727,-0.2404528963121727]  |\n",
      "|0.0  |0.0       |[0.46900054822864723,-0.46900054822864723]|\n",
      "+-----+----------+------------------------------------------+\n",
      "only showing top 5 rows\n",
      "\n"
     ]
    }
   ],
   "source": [
    "# Your answer goes here\n",
    "fittedTest.select(\"label\", \"prediction\", \"rawPrediction\").show(5, False)"
   ]
  },
  {
   "cell_type": "markdown",
   "metadata": {},
   "source": [
    "Make an evaluator from `BinaryClassificationEvaluator` function that calculates AUC. We will use this function to measure our model's performance on the `test` set. Call this evaluator `aucEvaluator`. \n",
    "\n",
    "Note that this function can be found under the `pyspark.ml.evaluation` module."
   ]
  },
  {
   "cell_type": "code",
   "execution_count": 35,
   "metadata": {},
   "outputs": [],
   "source": [
    "# Your answer goes here\n",
    "from pyspark.ml.evaluation import BinaryClassificationEvaluator\n",
    "\n",
    "aucEvaluator = BinaryClassificationEvaluator(metricName='areaUnderROC')"
   ]
  },
  {
   "cell_type": "markdown",
   "metadata": {},
   "source": [
    "Using our `aucEvaluator` find out the AUC on the `test` set:"
   ]
  },
  {
   "cell_type": "code",
   "execution_count": 36,
   "metadata": {},
   "outputs": [
    {
     "name": "stderr",
     "output_type": "stream",
     "text": [
      "[Stage 209:>                                                        (0 + 1) / 1]\r"
     ]
    },
    {
     "name": "stdout",
     "output_type": "stream",
     "text": [
      "Test AUC: 0.8488678638837974\n",
      "Train AUC: 0.8476784520669891\n"
     ]
    },
    {
     "name": "stderr",
     "output_type": "stream",
     "text": [
      "                                                                                \r"
     ]
    }
   ],
   "source": [
    "# Your answer goes here\n",
    "print('Test AUC:', aucEvaluator.evaluate(lrModel.transform(test)))\n",
    "print('Train AUC:', summary.areaUnderROC)"
   ]
  },
  {
   "cell_type": "markdown",
   "metadata": {},
   "source": [
    "\n",
    "# Next Steps - MODEL ENHANCEMENT - PIPELINE\n",
    "\n",
    "* Use of pipeline API and create a grid search to tune the hyperparameters.\n",
    "* Logistics regression as regression model.\n",
    "* Use of trainvalidationSplit.\n",
    "* BinaryClassificationEvaluator for evaluating the model.\n",
    "* Hyperparameters - elasticNetParam, maxIter and regParam."
   ]
  },
  {
   "cell_type": "code",
   "execution_count": 14,
   "metadata": {},
   "outputs": [],
   "source": [
    "from pyspark.ml import Pipeline\n",
    "from pyspark.ml.tuning import ParamGridBuilder, TrainValidationSplit\n",
    "from pyspark.ml.evaluation import BinaryClassificationEvaluator\n",
    "from pyspark.ml.feature import RFormula\n",
    "from pyspark.ml.classification import LogisticRegression"
   ]
  },
  {
   "cell_type": "code",
   "execution_count": 32,
   "metadata": {},
   "outputs": [],
   "source": [
    "train, test = df.randomSplit([0.7, 0.3], seed = 843)  # create a holdout set before transformation\n",
    "rForm = RFormula()  # defining stage 1 by creating an empty R formula\n",
    "lr = LogisticRegression().setLabelCol(\"label\").setFeaturesCol(\"features\")  # defining stage 2 by instantiating an instance of LogisticRegression\n"
   ]
  },
  {
   "cell_type": "code",
   "execution_count": 33,
   "metadata": {},
   "outputs": [],
   "source": [
    "stages = [rForm, lr]  # setting the stages\n",
    "pipeline = Pipeline().setStages(stages)  # adding the stages to the pipeline"
   ]
  },
  {
   "cell_type": "code",
   "execution_count": 34,
   "metadata": {},
   "outputs": [],
   "source": [
    "# building the hyperparameter grid\n",
    "\n",
    "params = ParamGridBuilder()\\\n",
    "  .addGrid(rForm.formula, [\"Churn ~ . \"])\\\n",
    "  .addGrid(lr.elasticNetParam, [0.0, 0.5, 1.0])\\\n",
    "  .addGrid(lr.maxIter, [10, 50, 100])\\\n",
    "  .addGrid(lr.regParam, [0.1,1.0, 2.0])\\\n",
    "  .build()"
   ]
  },
  {
   "cell_type": "code",
   "execution_count": 35,
   "metadata": {},
   "outputs": [
    {
     "name": "stdout",
     "output_type": "stream",
     "text": [
      "Number of models to be tested:  27\n"
     ]
    }
   ],
   "source": [
    "#How many models now?\n",
    "print ('Number of models to be tested: ', len(params))"
   ]
  },
  {
   "cell_type": "code",
   "execution_count": 37,
   "metadata": {},
   "outputs": [],
   "source": [
    "# setting the evaluator as AUC\n",
    "evaluator = BinaryClassificationEvaluator(metricName='areaUnderROC')\n",
    "#evaluator = BinaryClassificationEvaluator()"
   ]
  },
  {
   "cell_type": "code",
   "execution_count": 45,
   "metadata": {},
   "outputs": [],
   "source": [
    "# defining Train Validation Split to be used for hypyerparameter tuning\n",
    "tvs = TrainValidationSplit()\\\n",
    "  .setTrainRatio(0.75)\\\n",
    "  .setEstimatorParamMaps(params)\\\n",
    "  .setEstimator(pipeline)\\\n",
    "  .setEvaluator(evaluator)"
   ]
  },
  {
   "cell_type": "code",
   "execution_count": null,
   "metadata": {
    "tags": []
   },
   "outputs": [],
   "source": [
    "tvsFitted = tvs.fit(train)  # fit the estimator"
   ]
  },
  {
   "cell_type": "markdown",
   "metadata": {
    "tags": []
   },
   "source": [
    "#### Area Under Curve and Best model."
   ]
  },
  {
   "cell_type": "code",
   "execution_count": 40,
   "metadata": {},
   "outputs": [
    {
     "data": {
      "text/plain": [
       "0.846645877214579"
      ]
     },
     "execution_count": 40,
     "metadata": {},
     "output_type": "execute_result"
    }
   ],
   "source": [
    "evaluator.evaluate(tvsFitted.transform(test))  # evaluate the test set (AUC)"
   ]
  },
  {
   "cell_type": "code",
   "execution_count": 41,
   "metadata": {},
   "outputs": [
    {
     "name": "stdout",
     "output_type": "stream",
     "text": [
      "aggregationDepth 2\n",
      "elasticNetParam 0.0\n",
      "family auto\n",
      "featuresCol features\n",
      "fitIntercept True\n",
      "labelCol label\n",
      "maxBlockSizeInMB 0.0\n",
      "maxIter 50\n",
      "predictionCol prediction\n",
      "probabilityCol probability\n",
      "rawPredictionCol rawPrediction\n",
      "regParam 0.1\n",
      "standardization True\n",
      "threshold 0.5\n",
      "tol 1e-06\n"
     ]
    }
   ],
   "source": [
    "# Used code from Sindhura Uppalapati\n",
    "bestParams = tvsFitted.bestModel.stages[-1].extractParamMap()\n",
    "for param in bestParams:\n",
    "    print(param.name, bestParams[param])"
   ]
  },
  {
   "cell_type": "code",
   "execution_count": 42,
   "metadata": {},
   "outputs": [],
   "source": [
    "# Finding predictions using test data\n",
    "predictions = tvsFitted.transform(test)"
   ]
  },
  {
   "cell_type": "code",
   "execution_count": 43,
   "metadata": {},
   "outputs": [
    {
     "name": "stdout",
     "output_type": "stream",
     "text": [
      "+----------------------------------------+----------+-----+\n",
      "|probability                             |prediction|label|\n",
      "+----------------------------------------+----------+-----+\n",
      "|[0.5353697669993327,0.4646302330006673] |0.0       |1.0  |\n",
      "|[0.5347407090251565,0.46525929097484353]|0.0       |0.0  |\n",
      "|[0.578298229311523,0.42170177068847703] |0.0       |1.0  |\n",
      "|[0.6897423675840849,0.3102576324159151] |0.0       |0.0  |\n",
      "|[0.6616899053854153,0.3383100946145847] |0.0       |0.0  |\n",
      "|[0.6568699686345119,0.34313003136548814]|0.0       |0.0  |\n",
      "|[0.5257129785651296,0.47428702143487045]|0.0       |1.0  |\n",
      "|[0.6047038629944821,0.3952961370055179] |0.0       |1.0  |\n",
      "|[0.603913163196855,0.39608683680314505] |0.0       |1.0  |\n",
      "|[0.48905648714238237,0.5109435128576176]|1.0       |1.0  |\n",
      "+----------------------------------------+----------+-----+\n",
      "only showing top 10 rows\n",
      "\n"
     ]
    }
   ],
   "source": [
    "# Printing labels and predictions\n",
    "\n",
    "predictions.select(\"probability\", \"prediction\", \"label\").show(10, False)"
   ]
  },
  {
   "cell_type": "markdown",
   "metadata": {},
   "source": [
    "# Other ideas to improve - Random Forest Classifier + Cross Validator\n",
    "\n",
    "(1)\n",
    "Random Forest is an ensemble of Decision trees. \n",
    "\n",
    "It is powerful because each of the trees works on different subset of data and furthermore, random subset of features are used for splitting at each decision node.\n",
    "\n",
    "We can increase the number of trees by defining - forest = RandomForestClassifier(numTrees = 100)\n",
    "\n",
    "Additionally, we can increase the number of folds in cross validator to more significant values like 10 or more.\n",
    "\n",
    "Since DataProc cluster is not big enough, I kept the value to 2 so that fitting will finish.\n",
    "\n",
    "(2) Additionally, we can also clean up the data a bit more. Instead of using df = df.fillna(0), we could use average to fill up the NULL values."
   ]
  },
  {
   "cell_type": "code",
   "execution_count": 12,
   "metadata": {},
   "outputs": [],
   "source": [
    "# Create a random forest classifier\n",
    "from pyspark.ml.classification import RandomForestClassifier\n",
    "forest = RandomForestClassifier()"
   ]
  },
  {
   "cell_type": "code",
   "execution_count": 15,
   "metadata": {},
   "outputs": [],
   "source": [
    "# Create a parameter grid\n",
    "params = ParamGridBuilder() \\\n",
    "            .addGrid(forest.featureSubsetStrategy, ['all', 'onethird', 'sqrt', 'log2']) \\\n",
    "            .addGrid(forest.maxDepth, [2, 5, 10]) \\\n",
    "            .build()"
   ]
  },
  {
   "cell_type": "code",
   "execution_count": 16,
   "metadata": {},
   "outputs": [],
   "source": [
    "# Create a binary classification evaluator\n",
    "evaluator = BinaryClassificationEvaluator()"
   ]
  },
  {
   "cell_type": "code",
   "execution_count": 21,
   "metadata": {},
   "outputs": [],
   "source": [
    "# Create a cross-validator\n",
    "from pyspark.ml.tuning import CrossValidator\n",
    "cv = CrossValidator(estimator=forest, estimatorParamMaps=params, evaluator=evaluator, numFolds=2)"
   ]
  },
  {
   "cell_type": "code",
   "execution_count": 22,
   "metadata": {},
   "outputs": [
    {
     "name": "stderr",
     "output_type": "stream",
     "text": [
      "23/04/24 11:39:18 WARN DAGScheduler: Broadcasting large task binary with size 1214.3 KiB\n",
      "23/04/24 11:39:24 WARN DAGScheduler: Broadcasting large task binary with size 1081.6 KiB\n",
      "23/04/24 11:39:24 WARN DAGScheduler: Broadcasting large task binary with size 1385.6 KiB\n",
      "23/04/24 11:39:25 WARN DAGScheduler: Broadcasting large task binary with size 1023.7 KiB\n",
      "23/04/24 11:39:29 WARN DAGScheduler: Broadcasting large task binary with size 1062.6 KiB\n",
      "23/04/24 11:39:30 WARN DAGScheduler: Broadcasting large task binary with size 1381.2 KiB\n",
      "23/04/24 11:39:34 WARN DAGScheduler: Broadcasting large task binary with size 1051.1 KiB\n",
      "23/04/24 11:39:35 WARN DAGScheduler: Broadcasting large task binary with size 1356.7 KiB\n",
      "23/04/24 11:39:42 WARN DAGScheduler: Broadcasting large task binary with size 1194.1 KiB\n",
      "23/04/24 11:39:47 WARN DAGScheduler: Broadcasting large task binary with size 1038.1 KiB\n",
      "23/04/24 11:39:47 WARN DAGScheduler: Broadcasting large task binary with size 1325.6 KiB\n",
      "23/04/24 11:39:52 WARN DAGScheduler: Broadcasting large task binary with size 1048.4 KiB\n",
      "23/04/24 11:39:52 WARN DAGScheduler: Broadcasting large task binary with size 1354.9 KiB\n",
      "23/04/24 11:39:57 WARN DAGScheduler: Broadcasting large task binary with size 1010.5 KiB\n",
      "23/04/24 11:39:57 WARN DAGScheduler: Broadcasting large task binary with size 1304.5 KiB\n"
     ]
    }
   ],
   "source": [
    "# Fitting the training data\n",
    "cv = cv.fit(train)"
   ]
  },
  {
   "cell_type": "code",
   "execution_count": 23,
   "metadata": {},
   "outputs": [
    {
     "name": "stdout",
     "output_type": "stream",
     "text": [
      "[0.7903966667942398, 0.8377128793700483, 0.8124278610091478, 0.8211577540485218, 0.8371427280483092, 0.8199488344849769, 0.815034643129674, 0.833694489133825, 0.8250913863643845, 0.8180109309847363, 0.8328327480608985, 0.8189841423054736]\n"
     ]
    }
   ],
   "source": [
    "# Average AUC for each parameter combination in grid\n",
    "print(cv.avgMetrics)"
   ]
  },
  {
   "cell_type": "code",
   "execution_count": 27,
   "metadata": {},
   "outputs": [
    {
     "name": "stdout",
     "output_type": "stream",
     "text": [
      "maxDepth: Maximum depth of the tree. (>= 0) E.g., depth 0 means 1 leaf node; depth 1 means 1 internal node + 2 leaf nodes. Must be in range [0, 30]. (default: 5, current: 5)\n"
     ]
    }
   ],
   "source": [
    "# What's the optimal parameter value for maxDepth?\n",
    "print(cv.bestModel.explainParam('maxDepth'))\n"
   ]
  },
  {
   "cell_type": "code",
   "execution_count": 28,
   "metadata": {},
   "outputs": [
    {
     "name": "stdout",
     "output_type": "stream",
     "text": [
      "featureSubsetStrategy: The number of features to consider for splits at each tree node. Supported options: 'auto' (choose automatically for task: If numTrees == 1, set to 'all'. If numTrees > 1 (forest), set to 'sqrt' for classification and to 'onethird' for regression), 'all' (use all features), 'onethird' (use 1/3 of the features), 'sqrt' (use sqrt(number of features)), 'log2' (use log2(number of features)), 'n' (when n is in the range (0, 1.0], use n * number of features. When n is in the range (1, number of features), use n features). default = 'auto' (default: auto, current: all)\n"
     ]
    }
   ],
   "source": [
    "# What's the optimal parameter value for featureSubsetStrategy?\n",
    "print(cv.bestModel.explainParam('featureSubsetStrategy'))"
   ]
  },
  {
   "cell_type": "code",
   "execution_count": 29,
   "metadata": {},
   "outputs": [
    {
     "name": "stdout",
     "output_type": "stream",
     "text": [
      "0.8514226641500484\n"
     ]
    }
   ],
   "source": [
    "# AUC for best model on testing data\n",
    "print(evaluator.evaluate(cv.transform(test)))"
   ]
  },
  {
   "cell_type": "code",
   "execution_count": 36,
   "metadata": {},
   "outputs": [
    {
     "data": {
      "text/plain": [
       "RandomForestClassificationModel: uid=RandomForestClassifier_77c664a49a8a, numTrees=20, numClasses=2, numFeatures=30"
      ]
     },
     "execution_count": 36,
     "metadata": {},
     "output_type": "execute_result"
    }
   ],
   "source": [
    "#Best Model\n",
    "cv.bestModel"
   ]
  },
  {
   "cell_type": "code",
   "execution_count": 41,
   "metadata": {},
   "outputs": [],
   "source": [
    "# Finding the feature importance\n",
    "features_impt = cv.bestModel.featureImportances"
   ]
  },
  {
   "cell_type": "code",
   "execution_count": 66,
   "metadata": {},
   "outputs": [],
   "source": [
    "# Converting sparse vector to Dataframe\n",
    "from  pyspark.mllib.linalg import SparseVector\n",
    "pd_impt = pd.DataFrame(features_impt.toArray())"
   ]
  },
  {
   "cell_type": "code",
   "execution_count": 67,
   "metadata": {},
   "outputs": [],
   "source": [
    "# Renaming the column of dataframe\n",
    "pd_impt = pd_impt.rename(columns={0: \"feature\"})"
   ]
  },
  {
   "cell_type": "code",
   "execution_count": 68,
   "metadata": {},
   "outputs": [
    {
     "data": {
      "text/html": [
       "<div>\n",
       "<style scoped>\n",
       "    .dataframe tbody tr th:only-of-type {\n",
       "        vertical-align: middle;\n",
       "    }\n",
       "\n",
       "    .dataframe tbody tr th {\n",
       "        vertical-align: top;\n",
       "    }\n",
       "\n",
       "    .dataframe thead th {\n",
       "        text-align: right;\n",
       "    }\n",
       "</style>\n",
       "<table border=\"1\" class=\"dataframe\">\n",
       "  <thead>\n",
       "    <tr style=\"text-align: right;\">\n",
       "      <th></th>\n",
       "      <th>feature</th>\n",
       "    </tr>\n",
       "  </thead>\n",
       "  <tbody>\n",
       "    <tr>\n",
       "      <th>0</th>\n",
       "      <td>0.002581</td>\n",
       "    </tr>\n",
       "    <tr>\n",
       "      <th>1</th>\n",
       "      <td>0.003514</td>\n",
       "    </tr>\n",
       "    <tr>\n",
       "      <th>2</th>\n",
       "      <td>0.000458</td>\n",
       "    </tr>\n",
       "    <tr>\n",
       "      <th>3</th>\n",
       "      <td>0.000336</td>\n",
       "    </tr>\n",
       "  </tbody>\n",
       "</table>\n",
       "</div>"
      ],
      "text/plain": [
       "    feature\n",
       "0  0.002581\n",
       "1  0.003514\n",
       "2  0.000458\n",
       "3  0.000336"
      ]
     },
     "execution_count": 68,
     "metadata": {},
     "output_type": "execute_result"
    }
   ],
   "source": [
    "pd_impt.head(4)"
   ]
  },
  {
   "cell_type": "code",
   "execution_count": 69,
   "metadata": {},
   "outputs": [],
   "source": [
    "# Merging the same to featureCols\n",
    "pd_impt = pd_impt.merge(featureCols, left_index=True, right_index=True)  # join it with featureCols we created above"
   ]
  },
  {
   "cell_type": "code",
   "execution_count": 73,
   "metadata": {},
   "outputs": [],
   "source": [
    "# Sorting and printing the feature importance\n",
    "pd_impt.sort_values('feature', inplace=True)  # Sort them\n"
   ]
  },
  {
   "cell_type": "code",
   "execution_count": 74,
   "metadata": {},
   "outputs": [
    {
     "data": {
      "text/html": [
       "<div>\n",
       "<style scoped>\n",
       "    .dataframe tbody tr th:only-of-type {\n",
       "        vertical-align: middle;\n",
       "    }\n",
       "\n",
       "    .dataframe tbody tr th {\n",
       "        vertical-align: top;\n",
       "    }\n",
       "\n",
       "    .dataframe thead th {\n",
       "        text-align: right;\n",
       "    }\n",
       "</style>\n",
       "<table border=\"1\" class=\"dataframe\">\n",
       "  <thead>\n",
       "    <tr style=\"text-align: right;\">\n",
       "      <th></th>\n",
       "      <th>feature</th>\n",
       "      <th>name</th>\n",
       "    </tr>\n",
       "  </thead>\n",
       "  <tbody>\n",
       "    <tr>\n",
       "      <th>19</th>\n",
       "      <td>0.000000</td>\n",
       "      <td>StreamingTV_Yes</td>\n",
       "    </tr>\n",
       "    <tr>\n",
       "      <th>9</th>\n",
       "      <td>0.000000</td>\n",
       "      <td>InternetService_DSL</td>\n",
       "    </tr>\n",
       "    <tr>\n",
       "      <th>11</th>\n",
       "      <td>0.000000</td>\n",
       "      <td>OnlineSecurity_Yes</td>\n",
       "    </tr>\n",
       "    <tr>\n",
       "      <th>15</th>\n",
       "      <td>0.000000</td>\n",
       "      <td>DeviceProtection_Yes</td>\n",
       "    </tr>\n",
       "    <tr>\n",
       "      <th>13</th>\n",
       "      <td>0.000000</td>\n",
       "      <td>OnlineBackup_Yes</td>\n",
       "    </tr>\n",
       "    <tr>\n",
       "      <th>17</th>\n",
       "      <td>0.000091</td>\n",
       "      <td>TechSupport_Yes</td>\n",
       "    </tr>\n",
       "    <tr>\n",
       "      <th>14</th>\n",
       "      <td>0.000259</td>\n",
       "      <td>DeviceProtection_No</td>\n",
       "    </tr>\n",
       "    <tr>\n",
       "      <th>26</th>\n",
       "      <td>0.000281</td>\n",
       "      <td>PaymentMethod_MailedCheck</td>\n",
       "    </tr>\n",
       "    <tr>\n",
       "      <th>3</th>\n",
       "      <td>0.000336</td>\n",
       "      <td>Dependents_No</td>\n",
       "    </tr>\n",
       "    <tr>\n",
       "      <th>7</th>\n",
       "      <td>0.000341</td>\n",
       "      <td>MultipleLines_Yes</td>\n",
       "    </tr>\n",
       "    <tr>\n",
       "      <th>2</th>\n",
       "      <td>0.000458</td>\n",
       "      <td>Partner_No</td>\n",
       "    </tr>\n",
       "    <tr>\n",
       "      <th>20</th>\n",
       "      <td>0.001016</td>\n",
       "      <td>StreamingMovies_No</td>\n",
       "    </tr>\n",
       "    <tr>\n",
       "      <th>27</th>\n",
       "      <td>0.001095</td>\n",
       "      <td>PaymentMethod_BankTransferAutomatic</td>\n",
       "    </tr>\n",
       "    <tr>\n",
       "      <th>21</th>\n",
       "      <td>0.002192</td>\n",
       "      <td>StreamingMovies_Yes</td>\n",
       "    </tr>\n",
       "    <tr>\n",
       "      <th>0</th>\n",
       "      <td>0.002581</td>\n",
       "      <td>gender_Male</td>\n",
       "    </tr>\n",
       "    <tr>\n",
       "      <th>1</th>\n",
       "      <td>0.003514</td>\n",
       "      <td>SeniorCitizen</td>\n",
       "    </tr>\n",
       "    <tr>\n",
       "      <th>6</th>\n",
       "      <td>0.003943</td>\n",
       "      <td>MultipleLines_No</td>\n",
       "    </tr>\n",
       "    <tr>\n",
       "      <th>12</th>\n",
       "      <td>0.004042</td>\n",
       "      <td>OnlineBackup_No</td>\n",
       "    </tr>\n",
       "    <tr>\n",
       "      <th>18</th>\n",
       "      <td>0.004548</td>\n",
       "      <td>StreamingTV_No</td>\n",
       "    </tr>\n",
       "    <tr>\n",
       "      <th>5</th>\n",
       "      <td>0.005863</td>\n",
       "      <td>PhoneService_Yes</td>\n",
       "    </tr>\n",
       "    <tr>\n",
       "      <th>24</th>\n",
       "      <td>0.006937</td>\n",
       "      <td>PaperlessBilling_Yes</td>\n",
       "    </tr>\n",
       "    <tr>\n",
       "      <th>16</th>\n",
       "      <td>0.008099</td>\n",
       "      <td>TechSupport_No</td>\n",
       "    </tr>\n",
       "    <tr>\n",
       "      <th>23</th>\n",
       "      <td>0.010025</td>\n",
       "      <td>Contract_TwoYear</td>\n",
       "    </tr>\n",
       "    <tr>\n",
       "      <th>25</th>\n",
       "      <td>0.010916</td>\n",
       "      <td>PaymentMethod_ElectronicCheck</td>\n",
       "    </tr>\n",
       "    <tr>\n",
       "      <th>29</th>\n",
       "      <td>0.024351</td>\n",
       "      <td>TotalCharges</td>\n",
       "    </tr>\n",
       "    <tr>\n",
       "      <th>28</th>\n",
       "      <td>0.036532</td>\n",
       "      <td>MonthlyCharges</td>\n",
       "    </tr>\n",
       "    <tr>\n",
       "      <th>10</th>\n",
       "      <td>0.063581</td>\n",
       "      <td>OnlineSecurity_No</td>\n",
       "    </tr>\n",
       "    <tr>\n",
       "      <th>8</th>\n",
       "      <td>0.133009</td>\n",
       "      <td>InternetService_FiberOptic</td>\n",
       "    </tr>\n",
       "    <tr>\n",
       "      <th>4</th>\n",
       "      <td>0.159902</td>\n",
       "      <td>tenure</td>\n",
       "    </tr>\n",
       "    <tr>\n",
       "      <th>22</th>\n",
       "      <td>0.516088</td>\n",
       "      <td>Contract_Month_to_month</td>\n",
       "    </tr>\n",
       "  </tbody>\n",
       "</table>\n",
       "</div>"
      ],
      "text/plain": [
       "     feature                                 name\n",
       "19  0.000000                      StreamingTV_Yes\n",
       "9   0.000000                  InternetService_DSL\n",
       "11  0.000000                   OnlineSecurity_Yes\n",
       "15  0.000000                 DeviceProtection_Yes\n",
       "13  0.000000                     OnlineBackup_Yes\n",
       "17  0.000091                      TechSupport_Yes\n",
       "14  0.000259                  DeviceProtection_No\n",
       "26  0.000281            PaymentMethod_MailedCheck\n",
       "3   0.000336                        Dependents_No\n",
       "7   0.000341                    MultipleLines_Yes\n",
       "2   0.000458                           Partner_No\n",
       "20  0.001016                   StreamingMovies_No\n",
       "27  0.001095  PaymentMethod_BankTransferAutomatic\n",
       "21  0.002192                  StreamingMovies_Yes\n",
       "0   0.002581                          gender_Male\n",
       "1   0.003514                        SeniorCitizen\n",
       "6   0.003943                     MultipleLines_No\n",
       "12  0.004042                      OnlineBackup_No\n",
       "18  0.004548                       StreamingTV_No\n",
       "5   0.005863                     PhoneService_Yes\n",
       "24  0.006937                 PaperlessBilling_Yes\n",
       "16  0.008099                       TechSupport_No\n",
       "23  0.010025                     Contract_TwoYear\n",
       "25  0.010916        PaymentMethod_ElectronicCheck\n",
       "29  0.024351                         TotalCharges\n",
       "28  0.036532                       MonthlyCharges\n",
       "10  0.063581                    OnlineSecurity_No\n",
       "8   0.133009           InternetService_FiberOptic\n",
       "4   0.159902                               tenure\n",
       "22  0.516088              Contract_Month_to_month"
      ]
     },
     "execution_count": 74,
     "metadata": {},
     "output_type": "execute_result"
    }
   ],
   "source": [
    "pd_impt"
   ]
  },
  {
   "cell_type": "markdown",
   "metadata": {},
   "source": [
    "# Final Summary:\n",
    "\n",
    "AUC with Logistic Regression    :  0.8476784520669891\n",
    "\n",
    "AUC with Pipelines              :  0.846645877214579\n",
    "\n",
    "AUC with RandomForest           :  0.8514226641500484"
   ]
  }
 ],
 "metadata": {
  "kernelspec": {
   "display_name": "PySpark",
   "language": "python",
   "name": "pyspark"
  },
  "language_info": {
   "codemirror_mode": {
    "name": "ipython",
    "version": 3
   },
   "file_extension": ".py",
   "mimetype": "text/x-python",
   "name": "python",
   "nbconvert_exporter": "python",
   "pygments_lexer": "ipython3",
   "version": "3.10.8"
  }
 },
 "nbformat": 4,
 "nbformat_minor": 4
}