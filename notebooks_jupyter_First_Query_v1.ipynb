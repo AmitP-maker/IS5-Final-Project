{
 "cells": [
  {
   "cell_type": "code",
   "execution_count": 1,
   "id": "67d8ee9d-14e8-45ef-9279-b2f57274a388",
   "metadata": {},
   "outputs": [],
   "source": [
    "df = spark.read.format('bigquery') \\\n",
    "  .option('table', 'is843-team-project-5.IS843P5.merged_cleaned_data') \\\n",
    "  .load()"
   ]
  },
  {
   "cell_type": "code",
   "execution_count": 2,
   "id": "680fcdc2-8c66-4fe1-8654-0249940b06ec",
   "metadata": {},
   "outputs": [
    {
     "name": "stdout",
     "output_type": "stream",
     "text": [
      "root\n",
      " |-- post_id: string (nullable = true)\n",
      " |-- profile_id: long (nullable = true)\n",
      " |-- location_id: long (nullable = true)\n",
      " |-- post_time: timestamp (nullable = true)\n",
      " |-- post_type: long (nullable = true)\n",
      " |-- post_description: string (nullable = true)\n",
      " |-- numbr_likes: long (nullable = true)\n",
      " |-- number_comments: long (nullable = true)\n",
      " |-- location_name: string (nullable = true)\n",
      " |-- location_description: string (nullable = true)\n",
      " |-- city: string (nullable = true)\n",
      " |-- country: string (nullable = true)\n",
      " |-- lat: double (nullable = true)\n",
      " |-- lng: double (nullable = true)\n",
      " |-- profile_name: string (nullable = true)\n",
      " |-- profile_description: string (nullable = true)\n",
      " |-- following: long (nullable = true)\n",
      " |-- followers: long (nullable = true)\n",
      " |-- n_posts: long (nullable = true)\n",
      " |-- is_business_account: boolean (nullable = true)\n",
      "\n"
     ]
    }
   ],
   "source": [
    "df.printSchema()"
   ]
  },
  {
   "cell_type": "code",
   "execution_count": 3,
   "id": "307a4e34-0310-455d-8a8a-a18d6109066a",
   "metadata": {},
   "outputs": [
    {
     "data": {
      "text/plain": [
       "DataFrame[post_id: string, profile_id: bigint, location_id: bigint, post_time: timestamp, post_type: bigint, post_description: string, numbr_likes: bigint, number_comments: bigint, location_name: string, location_description: string, city: string, country: string, lat: double, lng: double, profile_name: string, profile_description: string, following: bigint, followers: bigint, n_posts: bigint, is_business_account: boolean]"
      ]
     },
     "execution_count": 3,
     "metadata": {},
     "output_type": "execute_result"
    }
   ],
   "source": [
    "df.cache()"
   ]
  },
  {
   "cell_type": "code",
   "execution_count": 2,
   "id": "8c3303f9-ed76-4b8c-81d2-6dbe3e865981",
   "metadata": {},
   "outputs": [],
   "source": [
    "from pyspark.sql import functions as F"
   ]
  },
  {
   "cell_type": "code",
   "execution_count": 26,
   "id": "7d5e738e-f148-4990-9894-0f7a3cbf17e7",
   "metadata": {},
   "outputs": [
    {
     "name": "stderr",
     "output_type": "stream",
     "text": [
      "[Stage 12:===================================================>    (12 + 1) / 13]\r"
     ]
    },
    {
     "name": "stdout",
     "output_type": "stream",
     "text": [
      "+-------------------+---------+\n",
      "|       profile_name|Followers|\n",
      "+-------------------+---------+\n",
      "|    chillbrunchgirl|     null|\n",
      "|   joanna_stampelos|     null|\n",
      "|     jackiechristie|     null|\n",
      "|time_4_memyselfandi|     null|\n",
      "|peppas_puss_poppins|     null|\n",
      "+-------------------+---------+\n",
      "only showing top 5 rows\n",
      "\n"
     ]
    },
    {
     "name": "stderr",
     "output_type": "stream",
     "text": [
      "                                                                                \r"
     ]
    }
   ],
   "source": [
    "follow_count = df.groupBy('profile_name')\\\n",
    "                .agg(F.sum('followers').alias('Followers')).orderBy('Followers').show(5)\n",
    "#                     F.sum('comments').alias('sum_of_comments'),\\\n",
    "#                     F.sum('numbr_likes').alias('sum_of_likes'))\n",
    "#                .orderBy('Followers')\n",
    "# Needs fixing"
   ]
  },
  {
   "cell_type": "code",
   "execution_count": 13,
   "id": "90c2642a-bbfc-4ee2-b53f-0cfbe3f964f9",
   "metadata": {},
   "outputs": [
    {
     "name": "stderr",
     "output_type": "stream",
     "text": [
      "[Stage 11:=========================================>               (8 + 3) / 11]\r"
     ]
    },
    {
     "name": "stdout",
     "output_type": "stream",
     "text": [
      "+---------------+-------------+---------------+------------+\n",
      "|   profile_name|max_followers|sum_of_comments|sum_of_likes|\n",
      "+---------------+-------------+---------------+------------+\n",
      "|      instagram|   2283661160|          77559|     8205065|\n",
      "|            433|    658341120|         187652|    18395227|\n",
      "|       buzova86|    646368786|         123852|     9708394|\n",
      "|            wwe|    632417172|          26182|     3421494|\n",
      "|princessyahrini|    406599522|           4024|     2732655|\n",
      "|  buzzfeedtasty|    393208179|          12521|     1311218|\n",
      "|       lunamaya|    387246330|          38461|     3174675|\n",
      "|        ritaora|    364052832|          17977|     3797208|\n",
      "|  voguemagazine|    358562800|          16188|     2305390|\n",
      "| chiaraferragni|    358179822|          29524|     7252016|\n",
      "+---------------+-------------+---------------+------------+\n",
      "only showing top 10 rows\n",
      "\n"
     ]
    },
    {
     "name": "stderr",
     "output_type": "stream",
     "text": [
      "                                                                                \r"
     ]
    }
   ],
   "source": [
    "# Displays the profiles with max number of followers.\n",
    "follow_count = df.select('profile_name', 'followers', 'number_comments', 'numbr_likes') \\\n",
    "                 .groupBy('profile_name') \\\n",
    "                 .agg(F.sum('followers').alias('max_followers'), \n",
    "                      F.sum('number_comments').alias('sum_of_comments'), \n",
    "                      F.sum('numbr_likes').alias('sum_of_likes')) \\\n",
    "                 .orderBy(F.col('max_followers').desc())\n",
    "\n",
    "follow_count.show(10)"
   ]
  },
  {
   "cell_type": "code",
   "execution_count": 30,
   "id": "a1c43470-1a4d-4945-8f24-14bbd1160c0e",
   "metadata": {},
   "outputs": [
    {
     "name": "stderr",
     "output_type": "stream",
     "text": [
      "[Stage 25:=====================================================>  (25 + 1) / 26]\r"
     ]
    },
    {
     "name": "stdout",
     "output_type": "stream",
     "text": [
      "235\n"
     ]
    },
    {
     "name": "stderr",
     "output_type": "stream",
     "text": [
      "                                                                                \r"
     ]
    }
   ],
   "source": [
    "countries = df.select('country').distinct().count()\n",
    "print(countries)"
   ]
  },
  {
   "cell_type": "code",
   "execution_count": 16,
   "id": "0e12b82b-369b-4135-b9f5-4c50b8f4b9f8",
   "metadata": {},
   "outputs": [],
   "source": [
    "country_presence = df.groupBy('country') \\\n",
    "                     .agg(F.count('profile_id').alias('count_of_profiles'), \n",
    "                          F.sum('numbr_likes').alias('total_likes'), \n",
    "                          F.sum('number_comments').alias('total_comments'))\\\n",
    "                    .orderBy(F.col('count_of_profiles').desc())\n",
    "\n"
   ]
  },
  {
   "cell_type": "code",
   "execution_count": 17,
   "id": "1504e85f-f9fc-4371-8577-14d76d5cca86",
   "metadata": {},
   "outputs": [
    {
     "name": "stderr",
     "output_type": "stream",
     "text": [
      "[Stage 15:===================================================>    (24 + 2) / 26]\r"
     ]
    },
    {
     "name": "stdout",
     "output_type": "stream",
     "text": [
      "+--------------+-----------------+-----------+--------------+\n",
      "|       country|count_of_profiles|total_likes|total_comments|\n",
      "+--------------+-----------------+-----------+--------------+\n",
      "|          null|         16031883| 5412881666|     147270769|\n",
      "| United States|          1416660|  506588635|      15665567|\n",
      "|        Russia|           962236|  219609486|       6963038|\n",
      "|United Kingdom|           862849|  222538386|       5353374|\n",
      "+--------------+-----------------+-----------+--------------+\n",
      "only showing top 4 rows\n",
      "\n"
     ]
    },
    {
     "name": "stderr",
     "output_type": "stream",
     "text": [
      "                                                                                \r"
     ]
    }
   ],
   "source": [
    "country_presence.show(10)"
   ]
  },
  {
   "cell_type": "code",
   "execution_count": 31,
   "id": "417b6cba-4473-4dd3-9a12-4831bc7d97f5",
   "metadata": {},
   "outputs": [
    {
     "name": "stderr",
     "output_type": "stream",
     "text": [
      "[Stage 31:=====================================================>  (25 + 1) / 26]\r"
     ]
    },
    {
     "name": "stdout",
     "output_type": "stream",
     "text": [
      "108054\n"
     ]
    },
    {
     "name": "stderr",
     "output_type": "stream",
     "text": [
      "                                                                                \r"
     ]
    }
   ],
   "source": [
    "cities = df.select('city').distinct().count()\n",
    "print(cities)"
   ]
  },
  {
   "cell_type": "code",
   "execution_count": 33,
   "id": "fcdf47ec-7e1b-4ec1-bef9-be9c084a20b8",
   "metadata": {},
   "outputs": [
    {
     "name": "stderr",
     "output_type": "stream",
     "text": [
      "[Stage 39:===================================>                     (8 + 4) / 13]\r"
     ]
    },
    {
     "name": "stdout",
     "output_type": "stream",
     "text": [
      "737849\n"
     ]
    },
    {
     "name": "stderr",
     "output_type": "stream",
     "text": [
      "                                                                                \r"
     ]
    }
   ],
   "source": [
    "bus_acc = df.select('profile_id').distinct().where('is_business_account').count()\n",
    "print(bus_acc)"
   ]
  },
  {
   "cell_type": "code",
   "execution_count": 34,
   "id": "6861d41c-ec09-4cc3-ae3a-498347d71e21",
   "metadata": {},
   "outputs": [
    {
     "name": "stderr",
     "output_type": "stream",
     "text": [
      "[Stage 45:===============================================>        (11 + 2) / 13]\r"
     ]
    },
    {
     "name": "stdout",
     "output_type": "stream",
     "text": [
      "1921672\n"
     ]
    },
    {
     "name": "stderr",
     "output_type": "stream",
     "text": [
      "                                                                                \r"
     ]
    }
   ],
   "source": [
    "total_profiles = df.select('profile_id').distinct().count()\n",
    "print(total_profiles)"
   ]
  },
  {
   "cell_type": "code",
   "execution_count": 35,
   "id": "c46f12a9-36f3-4c13-bc15-59c1e0ee7bae",
   "metadata": {},
   "outputs": [
    {
     "name": "stdout",
     "output_type": "stream",
     "text": [
      "38.4\n"
     ]
    }
   ],
   "source": [
    "percent_bus_account = round((bus_acc/total_profiles*100),2)\n",
    "print(percent_bus_account)"
   ]
  },
  {
   "cell_type": "code",
   "execution_count": 42,
   "id": "4a229c36-c3c7-4799-a362-cf3d1e9df272",
   "metadata": {},
   "outputs": [],
   "source": [
    "from pyspark.sql.functions import col, year, month\n",
    "df3 = df.select(\"post_description\")\\\n",
    "        .filter((year(col('post_time')) == 2019) & (month(col('post_time')) == 2) & (dayofmonth(col('post_time')) == 14) & col('post_description').isNotNull() & df.post_description.contains('#'))\n"
   ]
  },
  {
   "cell_type": "code",
   "execution_count": 43,
   "id": "1650f048-e0a7-4bf3-9977-a44293922844",
   "metadata": {},
   "outputs": [
    {
     "name": "stderr",
     "output_type": "stream",
     "text": [
      "                                                                                \r"
     ]
    },
    {
     "data": {
      "text/plain": [
       "2301454"
      ]
     },
     "execution_count": 43,
     "metadata": {},
     "output_type": "execute_result"
    }
   ],
   "source": [
    "df3.count()"
   ]
  },
  {
   "cell_type": "code",
   "execution_count": 44,
   "id": "c3774516-3c3b-4d21-8a8a-2913cd2f3e0c",
   "metadata": {},
   "outputs": [
    {
     "name": "stderr",
     "output_type": "stream",
     "text": [
      "                                                                                \r"
     ]
    }
   ],
   "source": [
    "df3.show(4,truncate=False)"
   ]
  },
  {
   "cell_type": "code",
   "execution_count": null,
   "id": "db68e765-4abe-4110-8968-37ca83603ac8",
   "metadata": {},
   "outputs": [],
   "source": [
    "tags_hash=df3.rdd.map(lambda x: x.post_description).collect()"
   ]
  },
  {
   "cell_type": "code",
   "execution_count": null,
   "id": "8710f76e-d01c-4ee8-b7e7-74b10ab291ff",
   "metadata": {},
   "outputs": [],
   "source": [
    "hash_tags = []\n",
    "for m in states2:\n",
    "   for k in m.split():\n",
    "      if ('#' in k): \n",
    "        if (',' in k): k = k.split(',')[0]\n",
    "        hash_tags.append(k)\n",
    "\n",
    "max_count = count.most_common()"
   ]
  },
  {
   "cell_type": "code",
   "execution_count": null,
   "id": "60ae761f-da01-40eb-82e1-8f7d408e2580",
   "metadata": {},
   "outputs": [],
   "source": [
    "print(max_count[0:10])"
   ]
  },
  {
   "cell_type": "code",
   "execution_count": null,
   "id": "40d81f76-1f28-47a4-a34e-6032268d4c3a",
   "metadata": {},
   "outputs": [],
   "source": []
  },
  {
   "cell_type": "code",
   "execution_count": null,
   "id": "d3c8c9a7-46d6-4294-b802-f091609cfaa1",
   "metadata": {},
   "outputs": [],
   "source": []
  }
 ],
 "metadata": {
  "kernelspec": {
   "display_name": "PySpark",
   "language": "python",
   "name": "pyspark"
  },
  "language_info": {
   "codemirror_mode": {
    "name": "ipython",
    "version": 3
   },
   "file_extension": ".py",
   "mimetype": "text/x-python",
   "name": "python",
   "nbconvert_exporter": "python",
   "pygments_lexer": "ipython3",
   "version": "3.10.8"
  }
 },
 "nbformat": 4,
 "nbformat_minor": 5
}